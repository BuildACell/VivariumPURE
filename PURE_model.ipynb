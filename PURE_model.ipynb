{
 "cells": [
  {
   "cell_type": "markdown",
   "metadata": {},
   "source": [
    "# Create a SBML Model With BioCRNpyler"
   ]
  },
  {
   "cell_type": "code",
   "execution_count": 1,
   "metadata": {},
   "outputs": [],
   "source": [
    "from biocrnpyler import *\n",
    "from vivarium.core.engine import pp"
   ]
  },
  {
   "cell_type": "markdown",
   "metadata": {},
   "source": [
    "# TX/TL module"
   ]
  },
  {
   "cell_type": "markdown",
   "metadata": {},
   "source": [
    "## Use [BioCRNpyler](https://github.com/BuildACell/BioCRNPyler) to make a Chemical Reaction Network (CRN)\n",
    "\n",
    "An unrealistically simple model of transcription from a gene $G$ to a transcript $T$ to a protein $P$\n",
    "\n",
    "## $G \\to G + T$\n",
    "## $T \\to T + P$"
   ]
  },
  {
   "cell_type": "code",
   "execution_count": 2,
   "metadata": {},
   "outputs": [
    {
     "name": "stdout",
     "output_type": "stream",
     "text": [
      "Species(N = 3) = {\n",
      "G (@ 1),  T (@ 0),  P (@ 0),  \n",
      "}\n",
      "\n",
      "Reactions (2) = [\n",
      "0. G --> G+T\n",
      " Kf=k_forward * G\n",
      "  k_forward=1.0\n",
      "\n",
      "1. T --> T+P\n",
      " Kf=k_forward * T\n",
      "  k_forward=1.0\n",
      "\n",
      "]\n"
     ]
    },
    {
     "data": {
      "text/plain": [
       "True"
      ]
     },
     "execution_count": 2,
     "metadata": {},
     "output_type": "execute_result"
    }
   ],
   "source": [
    "G = Species(\"G\")\n",
    "T = Species(\"T\")\n",
    "P = Species(\"P\")\n",
    "\n",
    "ktx = 1.0\n",
    "ktl = 1.0\n",
    "txrxn = Reaction.from_massaction(inputs = [G], outputs = [G, T], k_forward=ktx)\n",
    "tlrxn = Reaction.from_massaction(inputs = [T], outputs = [T, P], k_forward=ktl)\n",
    "\n",
    "CRN = ChemicalReactionNetwork(\n",
    "    species = [G, T, P], \n",
    "    reactions = [txrxn, tlrxn],\n",
    "    initial_concentration_dict = {G:1, T:0, P:0})\n",
    "\n",
    "print(CRN.pretty_print(show_compartment = True))\n",
    "\n",
    "CRN.write_sbml_file(\"txtl.xml\")"
   ]
  },
  {
   "cell_type": "markdown",
   "metadata": {},
   "source": [
    "## Load the CRN into [Vivarium-Bioscrape](https://github.com/vivarium-collective/vivarium-bioscrape)\n",
    "\n",
    "[Vivarium](https://academic.oup.com/bioinformatics/advance-article-abstract/doi/10.1093/bioinformatics/btac049/6522109?redirectedFrom=fulltext) is a multiscale-multimodal simulation engine with [many supported simulators](https://github.com/orgs/vivarium-collective/repositories?type=all). [Bioscrape](https://github.com/biocircuits/bioscrape) is a CRN simulator which can load the SBML files produced by BioCRNpyler. Vivarium-Bioscrape is Vivarium wrapper around Bioscrape."
   ]
  },
  {
   "cell_type": "code",
   "execution_count": 3,
   "metadata": {},
   "outputs": [
    {
     "name": "stdout",
     "output_type": "stream",
     "text": [
      "{ 'delta_species': {'G': 0.0, 'P': 0.0, 'T': 0.0},\n",
      "  'globals': {'volume': 1.0},\n",
      "  'rates': {'k_forward': 1.0, 'k_forward_r1': 1.0},\n",
      "  'species': {'G': 1.0, 'P': 0.0, 'T': 0.0},\n",
      "  'txtl': ( <vivarium_bioscrape.processes.bioscrape.Bioscrape object at 0x00000216009E40C8>,\n",
      "            { 'delta_species': ('delta_species',),\n",
      "              'globals': ('globals',),\n",
      "              'rates': ('rates',),\n",
      "              'species': ('species',)})}\n",
      "None\n"
     ]
    }
   ],
   "source": [
    "from vivarium.core import store\n",
    "from vivarium_bioscrape.processes.bioscrape import Bioscrape\n",
    "\n",
    "txtl_parameters = {\n",
    "    \"sbml_file\":\"txtl.xml\",\n",
    "    \"timestep\": 1.0\n",
    "}\n",
    "\n",
    "#Create a Store\n",
    "S = store.Store({})\n",
    "bioscrape_process = Bioscrape(txtl_parameters)\n",
    "S[\"txtl\"] = bioscrape_process\n",
    "S.set_value(bioscrape_process.initial_state())\n",
    "print(pp(S.get_value()))"
   ]
  },
  {
   "cell_type": "markdown",
   "metadata": {},
   "source": [
    "## Run the Vivarium-Bioscrape TXTL process alone then plot the results"
   ]
  },
  {
   "cell_type": "code",
   "execution_count": 4,
   "metadata": {},
   "outputs": [
    {
     "name": "stdout",
     "output_type": "stream",
     "text": [
      "\n",
      "Simulation ID: 05ca33a2-9b4e-11ec-b2bc-6c2b5976b3a5\n",
      "Created: 03/03/2022 at 15:59:54\n",
      "Completed in 0.069813 seconds\n"
     ]
    }
   ],
   "source": [
    "%matplotlib inline\n",
    "from vivarium.core.engine import Engine\n",
    "\n",
    "# put the store in an engine and run it\n",
    "sim = Engine(store=S)\n",
    "steps = 100\n",
    "sim.update(steps)"
   ]
  },
  {
   "cell_type": "code",
   "execution_count": 5,
   "metadata": {},
   "outputs": [
    {
     "data": {
      "image/png": "[encoded data removed]",
      "text/plain": [
       "<Figure size 576x259.2 with 3 Axes>"
      ]
     },
     "metadata": {
      "needs_background": "light"
     },
     "output_type": "display_data"
    }
   ],
   "source": [
    "from vivarium.plots.simulation_output import plot_variables\n",
    "\n",
    "# get the data\n",
    "data = sim.emitter.get_timeseries()\n",
    "#Plot the data\n",
    "fig = plot_variables(data, variables=[('species', 'G'),\n",
    "                                ('species', 'T'),\n",
    "                                ('species', 'P')])"
   ]
  },
  {
   "cell_type": "markdown",
   "metadata": {},
   "source": [
    "# Adding more complexity via a custom Vivarium `Process`\n",
    "\n",
    "In the following example, we model how salt concentration may effect chemical reaction rates. This model is a heuristic we invented as an example. It assmumes that salt concentrations causes a super-exponential drop in expression (modeled by a Guassian) as it deviates from the optimal value.\n",
    "\n",
    "### All Vivarium `Processes`Require: \n",
    "* a `ports_schema` which defines the variables names passed into `Process.next_update`as a `state` dictionary\n",
    "* a set of `default` used for internal parameter values (these can be updated via the `parameters` in the constructor\n",
    "* a `next_update` function which takes a state and updates it\n"
   ]
  },
  {
   "cell_type": "code",
   "execution_count": 6,
   "metadata": {},
   "outputs": [],
   "source": [
    "from vivarium.core.process import Process\n",
    "import numpy as np\n",
    "\n",
    "def gaussian(x, mean, variance):\n",
    "    return np.exp(-(x - mean) ** 2 / variance)\n",
    "\n",
    "class Salt(Process):\n",
    "\n",
    "    defaults = {\n",
    "        'mean': 5, # (Mg) this is the salt concentration for max activity\n",
    "        'variance': 2,\n",
    "        'max_rates': {},\n",
    "    }\n",
    "\n",
    "    def __init__(self, parameters=None):\n",
    "        super().__init__(parameters)\n",
    "\n",
    "    def ports_schema(self):\n",
    "        return {\n",
    "            'rates': {\n",
    "                '*': {\n",
    "                    '_default': 0.0,\n",
    "                    '_emit': True,\n",
    "                    '_updater': 'set'\n",
    "                }\n",
    "            },\n",
    "            'salt': {\n",
    "                '_default': 0.0,\n",
    "                '_emit': True,\n",
    "            }\n",
    "        }\n",
    "\n",
    "    def next_update(self, timestep, states):\n",
    "        salt = states['salt']\n",
    "        \n",
    "        activity = gaussian(\n",
    "            salt, self.parameters['mean'], self.parameters['variance'])\n",
    "        \n",
    "        return {\n",
    "            'rates': {\n",
    "                param_id: max_rate*activity \n",
    "                for param_id, max_rate in self.parameters['rates'].items()}\n",
    "        }"
   ]
  },
  {
   "cell_type": "code",
   "execution_count": 7,
   "metadata": {},
   "outputs": [
    {
     "data": {
      "text/plain": [
       "[<matplotlib.lines.Line2D at 0x2160650f188>]"
      ]
     },
     "execution_count": 7,
     "metadata": {},
     "output_type": "execute_result"
    },
    {
     "data": {
      "image/png": "[encoded data removed]",
      "text/plain": [
       "<Figure size 432x288 with 1 Axes>"
      ]
     },
     "metadata": {
      "needs_background": "light"
     },
     "output_type": "display_data"
    }
   ],
   "source": [
    "import pylab as plt\n",
    "\n",
    "plt.plot(np.arange(0,10,0.1), [gaussian(x, mean=5, variance=10) for x in np.arange(0,10,0.1)])"
   ]
  },
  {
   "cell_type": "markdown",
   "metadata": {},
   "source": [
    "# Wiring `Processes` Together with `Stores`\n",
    "\n",
    "`Stores` are the Vivarium objects which hold the state variables that are accesssed by different processes. By sharing variables in a `Store`, different `Processes` can be coupled together during simulation. To do this, each `Process` is places inside a `Store`. Because the port_schema of the Bioscrape and Salt Processes both contain variables called `rates`, these will automatically be shared between the processes. "
   ]
  },
  {
   "cell_type": "code",
   "execution_count": 8,
   "metadata": {},
   "outputs": [
    {
     "name": "stdout",
     "output_type": "stream",
     "text": [
      "{ 'delta_species': {'G': 0.0, 'P': 0.0, 'T': 0.0},\n",
      "  'globals': {'volume': 1.0},\n",
      "  'rates': {'k_forward': 1.0, 'k_forward_r1': 1.0},\n",
      "  'salt': 4.0,\n",
      "  'salt_process': ( <__main__.Salt object at 0x000002160655FF48>,\n",
      "                    {'rates': ('rates',), 'salt': ('salt',)}),\n",
      "  'species': {'G': 1.0, 'P': 0.0, 'T': 0.0},\n",
      "  'txtl_process': ( <vivarium_bioscrape.processes.bioscrape.Bioscrape object at 0x00000216009E40C8>,\n",
      "                    { 'delta_species': ('delta_species',),\n",
      "                      'globals': ('globals',),\n",
      "                      'rates': ('rates',),\n",
      "                      'species': ('species',)})}\n",
      "None\n"
     ]
    }
   ],
   "source": [
    "#Create a Store\n",
    "S2 = store.Store({})\n",
    "\n",
    "# make bioscrape\n",
    "txtl_parameters = {\n",
    "    \"sbml_file\":\"txtl.xml\",\n",
    "    \"timestep\": 1.0\n",
    "}\n",
    "txtl_process = Bioscrape(txtl_parameters)\n",
    "S2[\"txtl_process\"] = bioscrape_process\n",
    "txtl_initial = txtl_process.initial_state()\n",
    "S2.set_value(txtl_initial)\n",
    "\n",
    "# get the rates for bioscrape_process\n",
    "rates = {'k_forward': 1.0, 'k_forward_r1': 1.0}\n",
    "salt_process = Salt({\n",
    "    'mean': 5.,\n",
    "    'variance': 1.,\n",
    "    'rates': rates,\n",
    "})\n",
    "S2[\"salt_process\"] = salt_process\n",
    "S2[\"salt\"] = 4.\n",
    "\n",
    "print(pp(S2.get_value()))"
   ]
  },
  {
   "cell_type": "markdown",
   "metadata": {},
   "source": [
    "# Simulate the 2-Process Model"
   ]
  },
  {
   "cell_type": "code",
   "execution_count": 9,
   "metadata": {},
   "outputs": [
    {
     "name": "stdout",
     "output_type": "stream",
     "text": [
      "\n",
      "Simulation ID: 060739f4-9b4e-11ec-9c32-6c2b5976b3a5\n",
      "Created: 03/03/2022 at 15:59:55\n",
      "Completed in 0.025931 seconds\n"
     ]
    }
   ],
   "source": [
    "%matplotlib inline\n",
    "from vivarium.core.engine import Engine\n",
    "\n",
    "# put the store in an engine and run it\n",
    "sim2 = Engine(store=S2)\n",
    "steps = 100\n",
    "sim2.update(steps)"
   ]
  },
  {
   "cell_type": "markdown",
   "metadata": {},
   "source": [
    "## Vary the salt concentration"
   ]
  },
  {
   "cell_type": "code",
   "execution_count": 12,
   "metadata": {},
   "outputs": [
    {
     "name": "stdout",
     "output_type": "stream",
     "text": [
      "\n",
      "Simulation ID: 18e8f464-9b4e-11ec-a81b-6c2b5976b3a5\n",
      "Created: 03/03/2022 at 16:00:26\n",
      "Completed in 0.028922 seconds\n"
     ]
    },
    {
     "data": {
      "image/png": "[encoded data removed]",
      "text/plain": [
       "<Figure size 576x259.2 with 3 Axes>"
      ]
     },
     "metadata": {
      "needs_background": "light"
     },
     "output_type": "display_data"
    }
   ],
   "source": [
    "# put the store in an engine and run it\n",
    "S2.set_value(txtl_initial)\n",
    "S2[\"salt\"] = 4.\n",
    "sim2 = Engine(store=S2)\n",
    "steps = 100\n",
    "sim2.update(steps)\n",
    "\n",
    "# get the data\n",
    "data = sim2.emitter.get_timeseries()\n",
    "fig = plot_variables(data, variables=[\n",
    "    ('species', 'G'),\n",
    "    ('species', 'T'),\n",
    "    ('species', 'P'),\n",
    "#     ('salt',),\n",
    "])"
   ]
  },
  {
   "cell_type": "code",
   "execution_count": 13,
   "metadata": {},
   "outputs": [
    {
     "name": "stdout",
     "output_type": "stream",
     "text": [
      "\n",
      "Simulation ID: 1966f5ec-9b4e-11ec-a01d-6c2b5976b3a5\n",
      "Created: 03/03/2022 at 16:00:27\n",
      "Completed in 0.026928 seconds\n"
     ]
    },
    {
     "data": {
      "image/png": "[encoded data removed]",
      "text/plain": [
       "<Figure size 576x259.2 with 3 Axes>"
      ]
     },
     "metadata": {
      "needs_background": "light"
     },
     "output_type": "display_data"
    }
   ],
   "source": [
    "# put the store in an engine and run it\n",
    "S2.set_value(txtl_initial)\n",
    "S2[\"salt\"] = 2\n",
    "sim2 = Engine(store=S2)\n",
    "steps = 100\n",
    "sim2.update(steps)\n",
    "\n",
    "# get the data\n",
    "data = sim2.emitter.get_timeseries()\n",
    "fig = plot_variables(data, variables=[\n",
    "    ('species', 'G'),\n",
    "    ('species', 'T'),\n",
    "    ('species', 'P'),\n",
    "#     ('salt',),\n",
    "])"
   ]
  },
  {
   "cell_type": "code",
   "execution_count": null,
   "metadata": {},
   "outputs": [],
   "source": []
  }
 ],
 "metadata": {
  "kernelspec": {
   "display_name": "Python 3",
   "language": "python",
   "name": "python3"
  },
  "language_info": {
   "codemirror_mode": {
    "name": "ipython",
    "version": 3
   },
   "file_extension": ".py",
   "mimetype": "text/x-python",
   "name": "python",
   "nbconvert_exporter": "python",
   "pygments_lexer": "ipython3",
   "version": "3.7.4"
  },
  "toc": {
   "base_numbering": 1,
   "nav_menu": {},
   "number_sections": false,
   "sideBar": true,
   "skip_h1_title": false,
   "title_cell": "Table of Contents",
   "title_sidebar": "Contents",
   "toc_cell": false,
   "toc_position": {},
   "toc_section_display": true,
   "toc_window_display": true
  }
 },
 "nbformat": 4,
 "nbformat_minor": 4
}
