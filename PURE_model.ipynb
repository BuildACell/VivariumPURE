{
 "cells": [
  {
   "cell_type": "markdown",
   "metadata": {},
   "source": [
    "# Create a SBML Model With BioCRNpyler"
   ]
  },
  {
   "cell_type": "code",
   "execution_count": 1,
   "metadata": {},
   "outputs": [],
   "source": [
    "from biocrnpyler import *\n",
    "from vivarium.core.engine import pp"
   ]
  },
  {
   "cell_type": "markdown",
   "metadata": {},
   "source": [
    "# TX/TL module"
   ]
  },
  {
   "cell_type": "markdown",
   "metadata": {},
   "source": [
    "## BioCRNpyler makes CRN"
   ]
  },
  {
   "cell_type": "code",
   "execution_count": 2,
   "metadata": {},
   "outputs": [
    {
     "name": "stdout",
     "output_type": "stream",
     "text": [
      "Species(N = 3) = {\n",
      "G (@ 1),  T (@ 0),  P (@ 0),  \n",
      "}\n",
      "\n",
      "Reactions (2) = [\n",
      "0. G --> G+T\n",
      " Kf=k_forward * G\n",
      "  k_forward=1.0\n",
      "\n",
      "1. T --> T+P\n",
      " Kf=k_forward * T\n",
      "  k_forward=1.0\n",
      "\n",
      "]\n"
     ]
    },
    {
     "data": {
      "text/plain": [
       "True"
      ]
     },
     "execution_count": 2,
     "metadata": {},
     "output_type": "execute_result"
    }
   ],
   "source": [
    "G = Species(\"G\")\n",
    "T = Species(\"T\")\n",
    "P = Species(\"P\")\n",
    "\n",
    "ktx = 1.0\n",
    "ktl = 1.0\n",
    "txrxn = Reaction.from_massaction(inputs = [G], outputs = [G, T], k_forward=ktx)\n",
    "tlrxn = Reaction.from_massaction(inputs = [T], outputs = [T, P], k_forward=ktl)\n",
    "\n",
    "CRN = ChemicalReactionNetwork(\n",
    "    species = [G, T, P], \n",
    "    reactions = [txrxn, tlrxn],\n",
    "    initial_concentration_dict = {G:1, T:0, P:0})\n",
    "\n",
    "print(CRN.pretty_print(show_compartment = True))\n",
    "\n",
    "CRN.write_sbml_file(\"txtl.xml\")"
   ]
  },
  {
   "cell_type": "markdown",
   "metadata": {},
   "source": [
    "## Put in Vivarium-Bioscrape"
   ]
  },
  {
   "cell_type": "code",
   "execution_count": 26,
   "metadata": {},
   "outputs": [
    {
     "name": "stdout",
     "output_type": "stream",
     "text": [
      "{ 'delta_species': {'G': 0.0, 'P': 0.0, 'T': 0.0},\n",
      "  'globals': {'volume': 1.0},\n",
      "  'rates': {'k_forward': 1.0, 'k_forward_r1': 1.0},\n",
      "  'species': {'G': 1.0, 'P': 0.0, 'T': 0.0},\n",
      "  'txtl': ( <vivarium_bioscrape.processes.bioscrape.Bioscrape object at 0x12ceb5a60>,\n",
      "            { 'delta_species': ('delta_species',),\n",
      "              'globals': ('globals',),\n",
      "              'rates': ('rates',),\n",
      "              'species': ('species',)})}\n",
      "None\n"
     ]
    }
   ],
   "source": [
    "from vivarium.core import store\n",
    "from vivarium_bioscrape.processes.bioscrape import Bioscrape\n",
    "\n",
    "txtl_parameters = {\n",
    "    \"sbml_file\":\"txtl.xml\",\n",
    "    \"timestep\": 1.0\n",
    "}\n",
    "\n",
    "#Create a Store\n",
    "S = store.Store({})\n",
    "bioscrape_process = Bioscrape(txtl_parameters)\n",
    "S[\"txtl\"] = bioscrape_process\n",
    "S.set_value(bioscrape_process.initial_state())\n",
    "print(pp(S.get_value()))"
   ]
  },
  {
   "cell_type": "markdown",
   "metadata": {},
   "source": [
    "## Run the Vivarium-Bioscrape TXTL process"
   ]
  },
  {
   "cell_type": "code",
   "execution_count": 17,
   "metadata": {},
   "outputs": [
    {
     "name": "stdout",
     "output_type": "stream",
     "text": [
      "\n",
      "Simulation ID: 353eb976-9038-11ec-8b77-acde48001122\n",
      "Created: 02/17/2022 at 13:26:02\n",
      "Completed in 0.040684 seconds\n"
     ]
    }
   ],
   "source": [
    "%matplotlib inline\n",
    "from vivarium.core.engine import Engine\n",
    "\n",
    "# put the store in an engine and run it\n",
    "sim = Engine(store=S)\n",
    "steps = 100\n",
    "sim.update(steps)"
   ]
  },
  {
   "cell_type": "code",
   "execution_count": 16,
   "metadata": {},
   "outputs": [
    {
     "data": {
      "image/png": "[encoded data removed]",
      "text/plain": [
       "<Figure size 576x259.2 with 3 Axes>"
      ]
     },
     "metadata": {
      "needs_background": "light"
     },
     "output_type": "display_data"
    }
   ],
   "source": [
    "from vivarium.plots.simulation_output import plot_variables\n",
    "\n",
    "# get the data\n",
    "data = sim.emitter.get_timeseries()\n",
    "fig = plot_variables(data, variables=[('species', 'G'),\n",
    "                                ('species', 'T'),\n",
    "                                ('species', 'P')])"
   ]
  },
  {
   "cell_type": "markdown",
   "metadata": {},
   "source": [
    "# Biophysics"
   ]
  },
  {
   "cell_type": "code",
   "execution_count": 22,
   "metadata": {},
   "outputs": [],
   "source": [
    "from vivarium.core.process import Process\n",
    "import numpy as np\n",
    "\n",
    "def gaussian(x, mean, variance):\n",
    "    return np.exp(-(x - mean) ** 2 / variance)\n",
    "\n",
    "class Salt(Process):\n",
    "\n",
    "    defaults = {\n",
    "        'mean': 5, # (Mg) this is the salt concentration for max activity\n",
    "        'variance': 2,\n",
    "        'max_rates': {},\n",
    "    }\n",
    "\n",
    "    def __init__(self, parameters=None):\n",
    "        super().__init__(parameters)\n",
    "\n",
    "    def ports_schema(self):\n",
    "        return {\n",
    "            'rates': {\n",
    "                '*': {\n",
    "                    '_default': 0.0,\n",
    "                    '_emit': True,\n",
    "                    '_updater': 'set'\n",
    "                }\n",
    "            },\n",
    "            'salt': {\n",
    "                '_default': 0.0,\n",
    "                '_emit': True,\n",
    "            }\n",
    "        }\n",
    "\n",
    "    def next_update(self, timestep, states):\n",
    "        salt = states['salt']\n",
    "        \n",
    "        activity = gaussian(\n",
    "            salt, self.parameters['mean'], self.parameters['variance'])\n",
    "        \n",
    "        return {\n",
    "            'rates': {\n",
    "                param_id: max_rate*activity \n",
    "                for param_id, max_rate in self.parameters['rates'].items()}\n",
    "        }"
   ]
  },
  {
   "cell_type": "code",
   "execution_count": 21,
   "metadata": {},
   "outputs": [
    {
     "data": {
      "text/plain": [
       "[<matplotlib.lines.Line2D at 0x12ce84af0>]"
      ]
     },
     "execution_count": 21,
     "metadata": {},
     "output_type": "execute_result"
    },
    {
     "data": {
      "image/png": "[encoded data removed]",
      "text/plain": [
       "<Figure size 432x288 with 1 Axes>"
      ]
     },
     "metadata": {
      "needs_background": "light"
     },
     "output_type": "display_data"
    }
   ],
   "source": [
    "import pylab as plt\n",
    "\n",
    "plt.plot(np.arange(0,10,0.1), [gaussian(x, mean=5, variance=10) for x in np.arange(0,10,0.1)])"
   ]
  },
  {
   "cell_type": "code",
   "execution_count": 37,
   "metadata": {},
   "outputs": [
    {
     "name": "stdout",
     "output_type": "stream",
     "text": [
      "{ 'delta_species': {'G': 0.0, 'P': 0.0, 'T': 0.0},\n",
      "  'globals': {'volume': 1.0},\n",
      "  'rates': { 'k_forward': 1.1253517471925912e-07,\n",
      "             'k_forward_r1': 1.1253517471925912e-07},\n",
      "  'salt': 4.0,\n",
      "  'salt_process': ( <__main__.Salt object at 0x12ca6ffd0>,\n",
      "                    {'rates': ('rates',), 'salt': ('salt',)}),\n",
      "  'species': {'G': 1.0, 'P': 0.0, 'T': 0.0},\n",
      "  'txtl_process': ( <vivarium_bioscrape.processes.bioscrape.Bioscrape object at 0x12ceb5a60>,\n",
      "                    { 'delta_species': ('delta_species',),\n",
      "                      'globals': ('globals',),\n",
      "                      'rates': ('rates',),\n",
      "                      'species': ('species',)})}\n",
      "None\n"
     ]
    }
   ],
   "source": [
    "#Create a Store\n",
    "S2 = store.Store({})\n",
    "\n",
    "# make bioscrape\n",
    "txtl_parameters = {\n",
    "    \"sbml_file\":\"txtl.xml\",\n",
    "    \"timestep\": 1.0\n",
    "}\n",
    "txtl_process = Bioscrape(txtl_parameters)\n",
    "S2[\"txtl_process\"] = bioscrape_process\n",
    "txtl_initial = txtl_process.initial_state()\n",
    "S2.set_value(txtl_initial)\n",
    "\n",
    "# get the rates for bioscrape_process\n",
    "rates = {'k_forward': 1.0, 'k_forward_r1': 1.0}\n",
    "salt_process = Salt({\n",
    "    'mean': 5.,\n",
    "    'variance': 1.,\n",
    "    'rates': rates,\n",
    "})\n",
    "S2[\"salt_process\"] = salt_process\n",
    "S2[\"salt\"] = 4.\n",
    "\n",
    "print(pp(S2.get_value()))"
   ]
  },
  {
   "cell_type": "code",
   "execution_count": 32,
   "metadata": {},
   "outputs": [
    {
     "name": "stdout",
     "output_type": "stream",
     "text": [
      "\n",
      "Simulation ID: fee5a930-903b-11ec-8b77-acde48001122\n",
      "Created: 02/17/2022 at 13:53:09\n",
      "Completed in 0.054709 seconds\n"
     ]
    }
   ],
   "source": [
    "%matplotlib inline\n",
    "from vivarium.core.engine import Engine\n",
    "\n",
    "# put the store in an engine and run it\n",
    "sim2 = Engine(store=S2)\n",
    "steps = 100\n",
    "sim2.update(steps)"
   ]
  },
  {
   "cell_type": "code",
   "execution_count": 39,
   "metadata": {},
   "outputs": [
    {
     "name": "stdout",
     "output_type": "stream",
     "text": [
      "\n",
      "Simulation ID: 69dc5040-903c-11ec-8b77-acde48001122\n",
      "Created: 02/17/2022 at 13:56:09\n",
      "Completed in 0.040953 seconds\n"
     ]
    },
    {
     "data": {
      "image/png": "[encoded data removed]",
      "text/plain": [
       "<Figure size 576x259.2 with 3 Axes>"
      ]
     },
     "metadata": {
      "needs_background": "light"
     },
     "output_type": "display_data"
    }
   ],
   "source": [
    "# put the store in an engine and run it\n",
    "S2.set_value(txtl_initial)\n",
    "S2[\"salt\"] = 4.\n",
    "sim2 = Engine(store=S2)\n",
    "steps = 100\n",
    "sim2.update(steps)\n",
    "\n",
    "# get the data\n",
    "data = sim2.emitter.get_timeseries()\n",
    "fig = plot_variables(data, variables=[\n",
    "    ('species', 'G'),\n",
    "    ('species', 'T'),\n",
    "    ('species', 'P'),\n",
    "#     ('salt',),\n",
    "])"
   ]
  },
  {
   "cell_type": "code",
   "execution_count": 41,
   "metadata": {},
   "outputs": [
    {
     "name": "stdout",
     "output_type": "stream",
     "text": [
      "\n",
      "Simulation ID: 79400194-903c-11ec-8b77-acde48001122\n",
      "Created: 02/17/2022 at 13:56:34\n",
      "Completed in 0.045998 seconds\n"
     ]
    },
    {
     "data": {
      "image/png": "[encoded data removed]",
      "text/plain": [
       "<Figure size 576x259.2 with 3 Axes>"
      ]
     },
     "metadata": {
      "needs_background": "light"
     },
     "output_type": "display_data"
    }
   ],
   "source": [
    "# put the store in an engine and run it\n",
    "S2.set_value(txtl_initial)\n",
    "S2[\"salt\"] = 2\n",
    "sim2 = Engine(store=S2)\n",
    "steps = 100\n",
    "sim2.update(steps)\n",
    "\n",
    "# get the data\n",
    "data = sim2.emitter.get_timeseries()\n",
    "fig = plot_variables(data, variables=[\n",
    "    ('species', 'G'),\n",
    "    ('species', 'T'),\n",
    "    ('species', 'P'),\n",
    "#     ('salt',),\n",
    "])"
   ]
  },
  {
   "cell_type": "code",
   "execution_count": null,
   "metadata": {},
   "outputs": [],
   "source": []
  }
 ],
 "metadata": {
  "kernelspec": {
   "display_name": "Python 3",
   "language": "python",
   "name": "python3"
  },
  "language_info": {
   "codemirror_mode": {
    "name": "ipython",
    "version": 3
   },
   "file_extension": ".py",
   "mimetype": "text/x-python",
   "name": "python",
   "nbconvert_exporter": "python",
   "pygments_lexer": "ipython3",
   "version": "3.8.3"
  },
  "toc": {
   "base_numbering": 1,
   "nav_menu": {},
   "number_sections": false,
   "sideBar": true,
   "skip_h1_title": false,
   "title_cell": "Table of Contents",
   "title_sidebar": "Contents",
   "toc_cell": false,
   "toc_position": {},
   "toc_section_display": true,
   "toc_window_display": true
  }
 },
 "nbformat": 4,
 "nbformat_minor": 4
}
