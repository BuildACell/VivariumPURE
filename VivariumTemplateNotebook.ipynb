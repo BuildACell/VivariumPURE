{
 "cells": [
  {
   "cell_type": "markdown",
   "metadata": {},
   "source": [
    "# Create a SBML Model With BioCRNpyler"
   ]
  },
  {
   "cell_type": "code",
   "execution_count": 1,
   "metadata": {},
   "outputs": [],
   "source": [
    "from biocrnpyler import *\n",
    "\n",
    "def pp(d, tabs = 0):\n",
    "    txt = \"\"\n",
    "    for v in d:\n",
    "        if isinstance(d[v], dict):\n",
    "            txt+=\"\\n\"+f\"{'  '*tabs} {v} : {pp(d[v], tabs+1)}\"\n",
    "        else:\n",
    "            txt+=\"\\n\"+f\"{'  '*tabs} {v} : {d[v]}\"\n",
    "    return txt"
   ]
  },
  {
   "cell_type": "code",
   "execution_count": 2,
   "metadata": {},
   "outputs": [
    {
     "name": "stdout",
     "output_type": "stream",
     "text": [
      "Species(N = 3) = {\n",
      "H (@ 100),  M (@ 2),  H (@ 0),  \n",
      "}\n",
      "\n",
      "Reactions (1) = [\n",
      "0. H --> H\n",
      " Kf = k M H^n / ( K^n + H^n )\n",
      "  k=1.0\n",
      "  K=10\n",
      "  n=1.0\n",
      "\n",
      "]\n"
     ]
    },
    {
     "data": {
      "text/plain": [
       "True"
      ]
     },
     "execution_count": 2,
     "metadata": {},
     "output_type": "execute_result"
    }
   ],
   "source": [
    "H_in = Species(\"H\", compartment = \"internal\")\n",
    "H_out = Species(\"H\", compartment = \"external\")\n",
    "M = Species(\"M\", compartment = \"internal\")\n",
    "\n",
    "k = 1.0\n",
    "K = 10\n",
    "prop = ProportionalHillPositive(k = k, n = 1.0, d = M, s1 = H_in, K = K)\n",
    "rxn = Reaction(inputs = [H_in], outputs = [H_out], propensity_type = prop)\n",
    "\n",
    "CRN = ChemicalReactionNetwork(\n",
    "    species = [H_in, H_out, M], \n",
    "    reactions = [rxn],\n",
    "    initial_concentration_dict = {H_in:100, H_out:0, M:2})\n",
    "\n",
    "print(CRN.pretty_print(show_compartment = True))\n",
    "\n",
    "CRN.write_sbml_file(\"simple_transport.xml\")"
   ]
  },
  {
   "cell_type": "code",
   "execution_count": 3,
   "metadata": {},
   "outputs": [],
   "source": [
    "from vivarium.core.process import Process\n",
    "import numpy as np\n",
    "\n",
    "class Motion(Process):\n",
    "\n",
    "    defaults = {\"flux_velocity_ratio\":0.001}\n",
    "\n",
    "    def ports_schema(self):\n",
    "        return {\n",
    "            'location': {'_default':[0, 0], '_emit':True},\n",
    "            'delta': { 'H': {}}\n",
    "        }\n",
    "\n",
    "    def next_update(self, timestep, states):\n",
    "        \n",
    "        x = states[\"location\"][0]\n",
    "        y = states[\"location\"][1]\n",
    "        deltaH = states[\"delta\"][\"H\"]\n",
    "        flux = deltaH/timestep\n",
    "        \n",
    "        vmag = flux*self.parameters[\"flux_velocity_ratio\"]\n",
    "        \n",
    "        direction = np.random.normal(loc = 0, scale = 1, size = 2)\n",
    "        direction = direction/np.sqrt(np.sum(direction**2))\n",
    "        direction = direction*vmag\n",
    "        \n",
    "        return {\n",
    "            'location':direction\n",
    "        }"
   ]
  },
  {
   "cell_type": "code",
   "execution_count": 4,
   "metadata": {},
   "outputs": [
    {
     "name": "stdout",
     "output_type": "stream",
     "text": [
      "\n",
      " crn : (<vivarium_bioscrape.processes.bioscrape.Bioscrape object at 0x122a6cd30>, {'species': ('species',), 'delta_species': ('delta_species',), 'rates': ('rates',), 'globals': ('globals',)})\n",
      " species : \n",
      "   H_internal : 0.0\n",
      "   H_external : 0.0\n",
      "   M_internal : 0.0\n",
      " delta_species : \n",
      "   H_internal : 0.0\n",
      "   H_external : 0.0\n",
      "   M_internal : 0.0\n",
      " rates : \n",
      "   k : 1.0\n",
      "   K : 10.0\n",
      "   n : 1.0\n",
      " globals : \n",
      "   volume : 1.0\n",
      " motion : (<__main__.Motion object at 0x122a6cc10>, {'location': ('location',), 'delta': {'_path': ('delta',), 'H': ('..', 'delta_species', 'H_internal')}})\n",
      " location : [0, 0]\n",
      " delta : \n",
      "   H : None\n"
     ]
    }
   ],
   "source": [
    "from vivarium.core import store\n",
    "from vivarium_bioscrape.processes.bioscrape import Bioscrape\n",
    "\n",
    "bs_parameters = {\n",
    "    \"sbml_file\":\"simple_transport.xml\",\n",
    "    \"timestep\": 1.0\n",
    "}\n",
    "\n",
    "\n",
    "#Create a Store\n",
    "S = store.Store({})\n",
    "S[\"crn\"] = Bioscrape(bs_parameters)\n",
    "S[\"motion\"] = Motion({\"time_step\":1.0})\n",
    "S[\"motion\"].connect((\"delta\", \"H\"), S[\"crn\", \"delta_species\", \"H_internal\"])\n",
    "print(pp(S.get_value()))"
   ]
  },
  {
   "cell_type": "code",
   "execution_count": 5,
   "metadata": {},
   "outputs": [
    {
     "name": "stdout",
     "output_type": "stream",
     "text": [
      "\n",
      "Simulation ID: 0aa332b8-9034-11ec-87b2-acde48001122\n",
      "Created: 02/17/2022 at 12:56:13\n",
      "Completed in 0.046783 seconds\n",
      "\n",
      " crn : (<vivarium_bioscrape.processes.bioscrape.Bioscrape object at 0x122a6cd30>, {'species': ('species',), 'delta_species': ('delta_species',), 'rates': ('rates',), 'globals': ('globals',)})\n",
      " species : \n",
      "   H_internal : 0.0\n",
      "   H_external : 0.0\n",
      "   M_internal : 0.0\n",
      " delta_species : \n",
      "   H_internal : 0.0\n",
      "   H_external : 0.0\n",
      "   M_internal : 0.0\n",
      " rates : \n",
      "   k : 1.0\n",
      "   K : 10.0\n",
      "   n : 1.0\n",
      " globals : \n",
      "   volume : 1.0\n",
      " motion : (<__main__.Motion object at 0x122a6cc10>, {'location': ('location',), 'delta': {'_path': ('delta',), 'H': ('..', 'delta_species', 'H_internal')}})\n",
      " location : [0. 0.]\n",
      " delta : \n",
      "   H : None\n"
     ]
    }
   ],
   "source": [
    "%matplotlib inline\n",
    "from vivarium.core.engine import Engine\n",
    "\n",
    "sim = Engine(**{'store': S})\n",
    "\n",
    "steps = 100\n",
    "sim.update(steps)\n",
    "\n",
    "\n",
    "print(pp(S.get_value()))"
   ]
  },
  {
   "cell_type": "code",
   "execution_count": 6,
   "metadata": {},
   "outputs": [
    {
     "data": {
      "image/png": "[encoded data removed]",
      "text/plain": [
       "<Figure size 720x432 with 2 Axes>"
      ]
     },
     "metadata": {
      "needs_background": "light"
     },
     "output_type": "display_data"
    }
   ],
   "source": [
    "data = sim.emitter.get_timeseries()\n",
    "time = data[\"time\"]\n",
    "\n",
    "plt.figure(figsize = (10, 6))\n",
    "plt.subplot(121)\n",
    "plt.title(\"Location\")\n",
    "\n",
    "plt.plot(data[\"location\"][0][0], data[\"location\"][1][0], 'o', label = \"start\", color = (0, 1, 0))\n",
    "for i in range(len(time)-1):\n",
    "    plt.plot([data[\"location\"][i][0], data[\"location\"][i+1][0]] , [data[\"location\"][i][1], data[\"location\"][i+1][1]], color = (i/steps, 1-i/steps, 0), alpha = .5)\n",
    "plt.plot(data[\"location\"][-1][0], data[\"location\"][-1][1], '^', label = \"end\", color = (1, 0, 0))\n",
    "plt.legend()\n",
    "plt.xlabel(\"Delta X\")\n",
    "plt.ylabel(\"Delta Y\")\n",
    "\n",
    "plt.subplot(122)\n",
    "plt.title(\"H+ Internal\")\n",
    "plt.plot(time, data[\"species\"][\"H_internal\"])\n",
    "plt.xlabel(\"Time\")\n",
    "plt.ylabel(\"Concentration\")\n",
    "plt.show()"
   ]
  },
  {
   "cell_type": "code",
   "execution_count": null,
   "metadata": {},
   "outputs": [],
   "source": []
  },
  {
   "cell_type": "code",
   "execution_count": null,
   "metadata": {},
   "outputs": [],
   "source": []
  },
  {
   "cell_type": "code",
   "execution_count": null,
   "metadata": {},
   "outputs": [],
   "source": []
  },
  {
   "cell_type": "code",
   "execution_count": null,
   "metadata": {},
   "outputs": [],
   "source": []
  },
  {
   "cell_type": "code",
   "execution_count": null,
   "metadata": {},
   "outputs": [],
   "source": [
    "\n",
    "          "
   ]
  },
  {
   "cell_type": "code",
   "execution_count": null,
   "metadata": {},
   "outputs": [],
   "source": []
  },
  {
   "cell_type": "code",
   "execution_count": null,
   "metadata": {},
   "outputs": [],
   "source": []
  },
  {
   "cell_type": "code",
   "execution_count": null,
   "metadata": {},
   "outputs": [],
   "source": []
  },
  {
   "cell_type": "code",
   "execution_count": null,
   "metadata": {},
   "outputs": [],
   "source": []
  }
 ],
 "metadata": {
  "kernelspec": {
   "display_name": "Python 3",
   "language": "python",
   "name": "python3"
  },
  "language_info": {
   "codemirror_mode": {
    "name": "ipython",
    "version": 3
   },
   "file_extension": ".py",
   "mimetype": "text/x-python",
   "name": "python",
   "nbconvert_exporter": "python",
   "pygments_lexer": "ipython3",
   "version": "3.8.3"
  },
  "toc": {
   "base_numbering": 1,
   "nav_menu": {},
   "number_sections": false,
   "sideBar": true,
   "skip_h1_title": false,
   "title_cell": "Table of Contents",
   "title_sidebar": "Contents",
   "toc_cell": false,
   "toc_position": {},
   "toc_section_display": true,
   "toc_window_display": true
  }
 },
 "nbformat": 4,
 "nbformat_minor": 4
}
